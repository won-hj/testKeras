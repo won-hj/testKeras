{
  "nbformat": 4,
  "nbformat_minor": 0,
  "metadata": {
    "colab": {
      "provenance": [],
      "gpuType": "T4",
      "authorship_tag": "ABX9TyPsN3JLKTEOEqLPbVw0sGdy",
      "include_colab_link": true
    },
    "kernelspec": {
      "name": "python3",
      "display_name": "Python 3"
    },
    "language_info": {
      "name": "python"
    },
    "accelerator": "GPU"
  },
  "cells": [
    {
      "cell_type": "markdown",
      "metadata": {
        "id": "view-in-github",
        "colab_type": "text"
      },
      "source": [
        "<a href=\"https://colab.research.google.com/github/won-hj/testKeras/blob/main/Object_Detection_with_KerasCV.ipynb\" target=\"_parent\"><img src=\"https://colab.research.google.com/assets/colab-badge.svg\" alt=\"Open In Colab\"/></a>"
      ]
    },
    {
      "cell_type": "markdown",
      "source": [
        "#Object Detection with KerasCV\n",
        "-\n",
        "KerasCV offers a complete set of production grade APIs to solve object detection problems. These APIs include object-detection-specific data augmentation techniques, Keras native COCO metrics, bounding box format conversion utilities, visualization tools, pretrained object detection models, and everything you need to train your own state of the art object detection models!\n",
        "+\n",
        "KerasCV는 객체 감지 문제를 해결하기 위해 완전한 프로덕션 등급 API 세트를 제공합니다. 이러한 API에는 객체 감지별 데이터 증대 기술, Keras 기본 COCO 측정항목, 경계 상자 형식 변환 유틸리티, 시각화 도구, 사전 학습된 객체 감지 모델 및 자체 최첨단 객체 감지 모델을 학습하는 데 필요한 모든 것이 포함되어 있습니다.\n",
        "\n",
        "🔗 https://keras.io/guides/keras_cv/object_detection_keras_cv/\n"
      ],
      "metadata": {
        "id": "ud8YO66GGRaJ"
      }
    },
    {
      "cell_type": "code",
      "execution_count": 1,
      "metadata": {
        "colab": {
          "base_uri": "https://localhost:8080/"
        },
        "id": "VWhDuhhIFH0a",
        "outputId": "c24676ea-b6df-42a2-f746-aba532dff3b1"
      },
      "outputs": [
        {
          "output_type": "stream",
          "name": "stdout",
          "text": [
            "\u001b[2K     \u001b[90m━━━━━━━━━━━━━━━━━━━━━━━━━━━━━━━━━━━━━━━━\u001b[0m \u001b[32m613.1/613.1 kB\u001b[0m \u001b[31m5.6 MB/s\u001b[0m eta \u001b[36m0:00:00\u001b[0m\n",
            "\u001b[2K     \u001b[90m━━━━━━━━━━━━━━━━━━━━━━━━━━━━━━━━━━━━━━━━\u001b[0m \u001b[32m950.8/950.8 kB\u001b[0m \u001b[31m8.8 MB/s\u001b[0m eta \u001b[36m0:00:00\u001b[0m\n",
            "\u001b[2K     \u001b[90m━━━━━━━━━━━━━━━━━━━━━━━━━━━━━━━━━━━━━━━━\u001b[0m \u001b[32m1.1/1.1 MB\u001b[0m \u001b[31m6.3 MB/s\u001b[0m eta \u001b[36m0:00:00\u001b[0m\n",
            "\u001b[2K     \u001b[90m━━━━━━━━━━━━━━━━━━━━━━━━━━━━━━━━━━━━━━━━\u001b[0m \u001b[32m311.2/311.2 kB\u001b[0m \u001b[31m11.5 MB/s\u001b[0m eta \u001b[36m0:00:00\u001b[0m\n",
            "\u001b[?25h\u001b[31mERROR: pip's dependency resolver does not currently take into account all the packages that are installed. This behaviour is the source of the following dependency conflicts.\n",
            "tensorflow 2.15.0 requires keras<2.16,>=2.15.0, but you have keras 3.2.1 which is incompatible.\u001b[0m\u001b[31m\n",
            "\u001b[0m"
          ]
        }
      ],
      "source": [
        "'''\n",
        "ERROR: pip's dependency resolver does not currently take into account all the packages that are installed. This behaviour is the source of the following dependency conflicts.\n",
        "tensorflow 2.15.0 requires keras<2.16,>=2.15.0, but you have keras 3.2.1 which is incompatible.\n",
        "'''\n",
        "!pip install -q  --upgrade keras-cv\n",
        "!pip install -q --upgrade keras #upgrade keras3"
      ]
    },
    {
      "cell_type": "code",
      "source": [
        "import os\n",
        "os.environ[\"KERAS_BACKEND\"] = \"jax\" # @param [\"tensorflow\", \"jax\", \"torch\"]\n",
        "\n",
        "from tensorflow import data as tf_data\n",
        "import tensorflow_datasets as tfds\n",
        "import keras\n",
        "import keras_cv\n",
        "import numpy as np\n",
        "from keras_cv import bounding_box\n",
        "import os\n",
        "from keras_cv import visualization\n",
        "import tqdm"
      ],
      "metadata": {
        "id": "-_RMtU8sJwD6"
      },
      "execution_count": 3,
      "outputs": []
    },
    {
      "cell_type": "markdown",
      "source": [
        "#Object detection introduction\n",
        "- Object detection is the process of identifying, classifying, and localizing objects within a given image. Typically, your inputs are images, and your labels are bounding boxes with optional class labels. Object detection can be thought of as an extension of classification, however instead of one class label for the image, you must detect and localize an arbitrary number of classes.\n",
        "+ 객체 감지는 주어진 이미지 내에서 객체를 식별, 분류 및 위치화하는 프로세스입니다. 일반적으로 입력은 이미지이고 레이블은 선택적 클래스 레이블이 있는 경계 상자입니다. 객체 감지는 분류의 확장으로 생각할 수 있지만 이미지에 대한 하나의 클래스 레이블 대신 임의 개수의 클래스를 감지하고 지역화해야 합니다."
      ],
      "metadata": {
        "id": "PPubA04BLJ2Y"
      }
    },
    {
      "cell_type": "markdown",
      "source": [
        "#Perform detections with a pretrained model\n",
        "- The highest level API in the KerasCV Object Detection API is the keras_cv.models API. This API includes fully pretrained object detection models, such as keras_cv.models.YOLOV8Detector.\n",
        "Let's get started by constructing a YOLOV8Detector pretrained on the pascalvoc dataset.\n",
        "- KerasCV 객체 감지 API의 최고 수준 API는 API입니다 keras_cv.models. 이 API에는 다음과 같이 완전히 사전 훈련된 객체 감지 모델이 포함되어 있습니다 keras_cv.models.YOLOV8Detector.\n",
        "데이터세트 에 사전 훈련된 YOLOV8Detector를 구성하는 것부터 시작해 보겠습니다 pascalvoc .\n",
        "\n",
        " 🔗 YOLO https://keras.io/api/keras_cv/models/tasks/yolo_v8_detector#yolov8detector-class"
      ],
      "metadata": {
        "id": "5TDdGkXPLn8s"
      }
    },
    {
      "cell_type": "code",
      "source": [
        "pretrained_model = keras_cv.models.YOLOV8Detector.from_preset(\"yolo_v8_m_pascalvoc\", bounding_box_format=\"xywh\")"
      ],
      "metadata": {
        "id": "fzxWSjRJLVi6"
      },
      "execution_count": null,
      "outputs": []
    },
    {
      "cell_type": "markdown",
      "source": [
        "- bounding_box_format\n",
        "\n",
        "\n",
        "    bounding_boxes = {\n",
        "      \"classes\": [num_boxes],\n",
        "      \"boxes\": [num_boxes, 4]\n",
        "    }\n",
        "\n",
        "이 인수는 파이프라인에서 레이블 사전 필드 의 값이 사용하는 형식을 정확하게 설명합니다. 예를 들어, 왼쪽 위 모서리가 좌표 (100, 100)에 있고 너비가 55이고 높이가 70인 형식 \"boxes\"의 상자 는 다음과 같이 표시됩니다.\n",
        "\n",
        " ➡ xywh\n",
        "    \n",
        "    [100, 100, 55, 75]\n",
        "\n",
        "➡ xyxy\n",
        "\n",
        "    [100, 100, 155, 175]"
      ],
      "metadata": {
        "id": "J7sKUHuZMgQr"
      }
    },
    {
      "cell_type": "markdown",
      "source": [
        "간단해 보일 수도 있지만 KerasCV 객체 감지 API의 중요한 부분입니다! 경계 상자를 처리하는 모든 구성 요소에는 bounding_box_format인수가 필요합니다. API 문서에서 KerasCV 경계 상자 형식에 대한 자세한 내용을 읽을 수 있습니다 .\n",
        "\n",
        "이는 경계 상자에 대한 올바른 형식이 없기 때문에 수행됩니다! 서로 다른 파이프라인의 구성요소는 서로 다른 형식을 예상하므로 이를 지정하도록 요구함으로써 구성요소가 읽기 쉽고 재사용 가능하며 명확하게 유지되도록 보장합니다. 상자 형식 변환 버그는 아마도 객체 감지 파이프라인에서 가장 일반적인 버그 표면일 것입니다. 이 매개변수를 요구함으로써 우리는 이러한 버그를 완화합니다(특히 여러 소스의 코드를 결합할 때).\n",
        "\n",
        "🔗https://keras.io/api/keras_cv/bounding_box/formats/"
      ],
      "metadata": {
        "id": "AsugK2ibN-7p"
      }
    },
    {
      "cell_type": "code",
      "source": [
        "filepath = keras.utils.get_file(origin=\"https://i.imgur.com/gCNcJJI\") #error;%d format: a real number is required, not NoneType\n",
        "image = keras.utils.load_img(filepath)\n",
        "image = np.array(image)\n",
        "\n",
        "visualization.plot_image_gallery(\n",
        "    np.array([image]),\n",
        "    value_range = (0, 255),\n",
        "    row=1,\n",
        "    cols=1,\n",
        "    scale=5,\n",
        ")"
      ],
      "metadata": {
        "colab": {
          "base_uri": "https://localhost:8080/",
          "height": 790
        },
        "id": "z2LJywMXMz8F",
        "outputId": "5b602d59-f7ec-4ab1-a0d6-34b95e375e1b"
      },
      "execution_count": 7,
      "outputs": [
        {
          "output_type": "stream",
          "name": "stdout",
          "text": [
            "Downloading data from https://imgur.com/gCNcJJI\n",
            "      0/Unknown \u001b[1m0s\u001b[0m 0s/step"
          ]
        },
        {
          "output_type": "error",
          "ename": "TypeError",
          "evalue": "%d format: a real number is required, not NoneType",
          "traceback": [
            "\u001b[0;31m---------------------------------------------------------------------------\u001b[0m",
            "\u001b[0;31mTypeError\u001b[0m                                 Traceback (most recent call last)",
            "\u001b[0;32m<ipython-input-7-7f9730f29708>\u001b[0m in \u001b[0;36m<cell line: 1>\u001b[0;34m()\u001b[0m\n\u001b[0;32m----> 1\u001b[0;31m \u001b[0mfilepath\u001b[0m \u001b[0;34m=\u001b[0m \u001b[0mkeras\u001b[0m\u001b[0;34m.\u001b[0m\u001b[0mutils\u001b[0m\u001b[0;34m.\u001b[0m\u001b[0mget_file\u001b[0m\u001b[0;34m(\u001b[0m\u001b[0morigin\u001b[0m\u001b[0;34m=\u001b[0m\u001b[0;34m\"https://imgur.com/gCNcJJI\"\u001b[0m\u001b[0;34m)\u001b[0m\u001b[0;34m\u001b[0m\u001b[0;34m\u001b[0m\u001b[0m\n\u001b[0m\u001b[1;32m      2\u001b[0m \u001b[0mimage\u001b[0m \u001b[0;34m=\u001b[0m \u001b[0mkeras\u001b[0m\u001b[0;34m.\u001b[0m\u001b[0mutils\u001b[0m\u001b[0;34m.\u001b[0m\u001b[0mload_img\u001b[0m\u001b[0;34m(\u001b[0m\u001b[0mfilepath\u001b[0m\u001b[0;34m)\u001b[0m\u001b[0;34m\u001b[0m\u001b[0;34m\u001b[0m\u001b[0m\n\u001b[1;32m      3\u001b[0m \u001b[0mimage\u001b[0m \u001b[0;34m=\u001b[0m \u001b[0mnp\u001b[0m\u001b[0;34m.\u001b[0m\u001b[0marray\u001b[0m\u001b[0;34m(\u001b[0m\u001b[0mimage\u001b[0m\u001b[0;34m)\u001b[0m\u001b[0;34m\u001b[0m\u001b[0;34m\u001b[0m\u001b[0m\n\u001b[1;32m      4\u001b[0m \u001b[0;34m\u001b[0m\u001b[0m\n\u001b[1;32m      5\u001b[0m visualization.plot_image_gallery(\n",
            "\u001b[0;32m/usr/local/lib/python3.10/dist-packages/keras/src/utils/file_utils.py\u001b[0m in \u001b[0;36mget_file\u001b[0;34m(fname, origin, untar, md5_hash, file_hash, cache_subdir, hash_algorithm, extract, archive_format, cache_dir, force_download)\u001b[0m\n\u001b[1;32m    289\u001b[0m         \u001b[0;32mtry\u001b[0m\u001b[0;34m:\u001b[0m\u001b[0;34m\u001b[0m\u001b[0;34m\u001b[0m\u001b[0m\n\u001b[1;32m    290\u001b[0m             \u001b[0;32mtry\u001b[0m\u001b[0;34m:\u001b[0m\u001b[0;34m\u001b[0m\u001b[0;34m\u001b[0m\u001b[0m\n\u001b[0;32m--> 291\u001b[0;31m                 \u001b[0murlretrieve\u001b[0m\u001b[0;34m(\u001b[0m\u001b[0morigin\u001b[0m\u001b[0;34m,\u001b[0m \u001b[0mfpath\u001b[0m\u001b[0;34m,\u001b[0m \u001b[0mDLProgbar\u001b[0m\u001b[0;34m(\u001b[0m\u001b[0;34m)\u001b[0m\u001b[0;34m)\u001b[0m\u001b[0;34m\u001b[0m\u001b[0;34m\u001b[0m\u001b[0m\n\u001b[0m\u001b[1;32m    292\u001b[0m             \u001b[0;32mexcept\u001b[0m \u001b[0murllib\u001b[0m\u001b[0;34m.\u001b[0m\u001b[0merror\u001b[0m\u001b[0;34m.\u001b[0m\u001b[0mHTTPError\u001b[0m \u001b[0;32mas\u001b[0m \u001b[0me\u001b[0m\u001b[0;34m:\u001b[0m\u001b[0;34m\u001b[0m\u001b[0;34m\u001b[0m\u001b[0m\n\u001b[1;32m    293\u001b[0m                 \u001b[0;32mraise\u001b[0m \u001b[0mException\u001b[0m\u001b[0;34m(\u001b[0m\u001b[0merror_msg\u001b[0m\u001b[0;34m.\u001b[0m\u001b[0mformat\u001b[0m\u001b[0;34m(\u001b[0m\u001b[0morigin\u001b[0m\u001b[0;34m,\u001b[0m \u001b[0me\u001b[0m\u001b[0;34m.\u001b[0m\u001b[0mcode\u001b[0m\u001b[0;34m,\u001b[0m \u001b[0me\u001b[0m\u001b[0;34m.\u001b[0m\u001b[0mmsg\u001b[0m\u001b[0;34m)\u001b[0m\u001b[0;34m)\u001b[0m\u001b[0;34m\u001b[0m\u001b[0;34m\u001b[0m\u001b[0m\n",
            "\u001b[0;32m/usr/lib/python3.10/urllib/request.py\u001b[0m in \u001b[0;36murlretrieve\u001b[0;34m(url, filename, reporthook, data)\u001b[0m\n\u001b[1;32m    275\u001b[0m                 \u001b[0mblocknum\u001b[0m \u001b[0;34m+=\u001b[0m \u001b[0;36m1\u001b[0m\u001b[0;34m\u001b[0m\u001b[0;34m\u001b[0m\u001b[0m\n\u001b[1;32m    276\u001b[0m                 \u001b[0;32mif\u001b[0m \u001b[0mreporthook\u001b[0m\u001b[0;34m:\u001b[0m\u001b[0;34m\u001b[0m\u001b[0;34m\u001b[0m\u001b[0m\n\u001b[0;32m--> 277\u001b[0;31m                     \u001b[0mreporthook\u001b[0m\u001b[0;34m(\u001b[0m\u001b[0mblocknum\u001b[0m\u001b[0;34m,\u001b[0m \u001b[0mbs\u001b[0m\u001b[0;34m,\u001b[0m \u001b[0msize\u001b[0m\u001b[0;34m)\u001b[0m\u001b[0;34m\u001b[0m\u001b[0;34m\u001b[0m\u001b[0m\n\u001b[0m\u001b[1;32m    278\u001b[0m \u001b[0;34m\u001b[0m\u001b[0m\n\u001b[1;32m    279\u001b[0m     \u001b[0;32mif\u001b[0m \u001b[0msize\u001b[0m \u001b[0;34m>=\u001b[0m \u001b[0;36m0\u001b[0m \u001b[0;32mand\u001b[0m \u001b[0mread\u001b[0m \u001b[0;34m<\u001b[0m \u001b[0msize\u001b[0m\u001b[0;34m:\u001b[0m\u001b[0;34m\u001b[0m\u001b[0;34m\u001b[0m\u001b[0m\n",
            "\u001b[0;32m/usr/local/lib/python3.10/dist-packages/keras/src/utils/file_utils.py\u001b[0m in \u001b[0;36m__call__\u001b[0;34m(self, block_num, block_size, total_size)\u001b[0m\n\u001b[1;32m    283\u001b[0m                         \u001b[0mself\u001b[0m\u001b[0;34m.\u001b[0m\u001b[0mprogbar\u001b[0m\u001b[0;34m.\u001b[0m\u001b[0mupdate\u001b[0m\u001b[0;34m(\u001b[0m\u001b[0mcurrent\u001b[0m\u001b[0;34m)\u001b[0m\u001b[0;34m\u001b[0m\u001b[0;34m\u001b[0m\u001b[0m\n\u001b[1;32m    284\u001b[0m                     \u001b[0;32melif\u001b[0m \u001b[0;32mnot\u001b[0m \u001b[0mself\u001b[0m\u001b[0;34m.\u001b[0m\u001b[0mfinished\u001b[0m\u001b[0;34m:\u001b[0m\u001b[0;34m\u001b[0m\u001b[0;34m\u001b[0m\u001b[0m\n\u001b[0;32m--> 285\u001b[0;31m                         \u001b[0mself\u001b[0m\u001b[0;34m.\u001b[0m\u001b[0mprogbar\u001b[0m\u001b[0;34m.\u001b[0m\u001b[0mupdate\u001b[0m\u001b[0;34m(\u001b[0m\u001b[0mself\u001b[0m\u001b[0;34m.\u001b[0m\u001b[0mprogbar\u001b[0m\u001b[0;34m.\u001b[0m\u001b[0mtarget\u001b[0m\u001b[0;34m)\u001b[0m\u001b[0;34m\u001b[0m\u001b[0;34m\u001b[0m\u001b[0m\n\u001b[0m\u001b[1;32m    286\u001b[0m                         \u001b[0mself\u001b[0m\u001b[0;34m.\u001b[0m\u001b[0mfinished\u001b[0m \u001b[0;34m=\u001b[0m \u001b[0;32mTrue\u001b[0m\u001b[0;34m\u001b[0m\u001b[0;34m\u001b[0m\u001b[0m\n\u001b[1;32m    287\u001b[0m \u001b[0;34m\u001b[0m\u001b[0m\n",
            "\u001b[0;32m/usr/local/lib/python3.10/dist-packages/keras/src/utils/progbar.py\u001b[0m in \u001b[0;36mupdate\u001b[0;34m(self, current, values, finalize)\u001b[0m\n\u001b[1;32m    131\u001b[0m \u001b[0;34m\u001b[0m\u001b[0m\n\u001b[1;32m    132\u001b[0m             \u001b[0;32melse\u001b[0m\u001b[0;34m:\u001b[0m\u001b[0;34m\u001b[0m\u001b[0;34m\u001b[0m\u001b[0m\n\u001b[0;32m--> 133\u001b[0;31m                 \u001b[0mbar\u001b[0m \u001b[0;34m=\u001b[0m \u001b[0;34m\"%7d/Unknown\"\u001b[0m \u001b[0;34m%\u001b[0m \u001b[0mcurrent\u001b[0m\u001b[0;34m\u001b[0m\u001b[0;34m\u001b[0m\u001b[0m\n\u001b[0m\u001b[1;32m    134\u001b[0m             \u001b[0mmessage\u001b[0m \u001b[0;34m+=\u001b[0m \u001b[0mbar\u001b[0m\u001b[0;34m\u001b[0m\u001b[0;34m\u001b[0m\u001b[0m\n\u001b[1;32m    135\u001b[0m \u001b[0;34m\u001b[0m\u001b[0m\n",
            "\u001b[0;31mTypeError\u001b[0m: %d format: a real number is required, not NoneType"
          ]
        }
      ]
    },
    {
      "cell_type": "code",
      "source": [
        "import traceback\n",
        "print(traceback.format_exc()) #NoneType: None\n"
      ],
      "metadata": {
        "colab": {
          "base_uri": "https://localhost:8080/"
        },
        "id": "VSCGtlqiPJoX",
        "outputId": "61dc501a-f507-4e7a-8783-1cb1d8b88670"
      },
      "execution_count": 6,
      "outputs": [
        {
          "output_type": "stream",
          "name": "stdout",
          "text": [
            "NoneType: None\n",
            "\n"
          ]
        }
      ]
    }
  ]
}